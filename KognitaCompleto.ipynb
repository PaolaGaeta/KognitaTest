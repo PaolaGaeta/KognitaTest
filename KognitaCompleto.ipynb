{
 "cells": [
  {
   "cell_type": "code",
   "execution_count": 1,
   "id": "75bae77f-e1e4-4f02-80a4-1d510a330ba8",
   "metadata": {},
   "outputs": [
    {
     "name": "stdout",
     "output_type": "stream",
     "text": [
      "{'default': 0}\n"
     ]
    },
    {
     "name": "stderr",
     "output_type": "stream",
     "text": [
      "/tmp/ipykernel_1249336/299664427.py:20: DeprecationWarning: Conversion of an array with ndim > 0 to a scalar is deprecated, and will error in future. Ensure you extract a single element from your array before performing this operation. (Deprecated NumPy 1.25.)\n",
      "  predicao = int(probabilidade_default > 0.5)\n"
     ]
    }
   ],
   "source": [
    "# Bibliotecas\n",
    "import pandas as pd\n",
    "from sklearn.model_selection import train_test_split\n",
    "from sklearn.preprocessing import StandardScaler\n",
    "from sklearn.linear_model import LogisticRegression\n",
    "from sklearn.metrics import accuracy_score, classification_report, roc_auc_score\n",
    "\n",
    "# Prever a probabilidade de default\n",
    "def prever_default(dados, modelo, scaler):\n",
    "    # Criar um DataFrame a partir do dicionário de entrada\n",
    "    df = pd.DataFrame([dados])\n",
    "\n",
    "    # Padronizar as características dos novos dados usando o mesmo scaler\n",
    "    dados_scaled = scaler.transform(df)\n",
    "\n",
    "    # Obter a probabilidade de default usando o modelo\n",
    "    probabilidade_default = modelo.predict_proba(dados_scaled)[:, 1]\n",
    "\n",
    "    # Determinar a classe predita (0 ou 1) com base em um limiar (por exemplo, 0.5)\n",
    "    predicao = int(probabilidade_default > 0.5)\n",
    "\n",
    "    # Retornar a predição em um formato de dicionário\n",
    "    resultado = {\"default\": predicao}\n",
    "\n",
    "    return resultado\n",
    "\n",
    "# Abrindo arquivo\n",
    "df = pd.read_csv('dataset/dataset_2021-5-26-10-14.csv', on_bad_lines='skip',sep = '\\t' ,encoding = 'utf-8')\n",
    "# Fromatando arquivo para data frame\n",
    "data = pd.DataFrame.from_dict(df)\n",
    "\n",
    "# Ajustando colunas com valores monetários\n",
    "colunas_valor = [coluna for coluna in data.columns if 'valor' in coluna or 'ioi' in coluna]\n",
    "data[colunas_valor] = data[colunas_valor].astype('double').round(2)\n",
    "\n",
    "# Escolhendo dados para análise\n",
    "dados_analise = [data['default_3months'],data['ioi_3months'],data['valor_por_vencer'],data['valor_vencido'],data['valor_quitado']\n",
    "                 ,data['quant_protestos'],data['valor_protestos'],data['quant_acao_judicial'],data['acao_judicial_valor']\n",
    "                 ,data['participacao_falencia_valor'],data['dividas_vencidas_valor'],data['dividas_vencidas_qtd']\n",
    "                 ,data['falencia_concordata_qtd'],data['valor_total_pedido'],data['default']]\n",
    "\n",
    "df = pd.DataFrame(dados_analise).T\n",
    "\n",
    "# Separando variável alvo (default) das características\n",
    "X = df.drop('default', axis=1)\n",
    "y = df['default']\n",
    "\n",
    "# Dividindo os dados em conjuntos de treinamento e teste\n",
    "X_train, X_test, y_train, y_test = train_test_split(X, y, test_size=0.2, random_state=42)\n",
    "\n",
    "# Padronizando as características\n",
    "scaler = StandardScaler()\n",
    "X_train_scaled = scaler.fit_transform(X_train)\n",
    "X_test_scaled = scaler.transform(X_test)\n",
    "\n",
    "# Criando e treinando modelo de Regressão Logística\n",
    "modelo = LogisticRegression(max_iter=1000, random_state=42)\n",
    "modelo.fit(X_train_scaled, y_train)\n",
    "\n",
    "# Fazendo predições no conjunto de teste\n",
    "previsoes = modelo.predict(X_test_scaled)\n",
    "probabilidades_default = modelo.predict_proba(X_test_scaled)[:, 1]\n",
    "\n",
    "# Avaliando o desempenho do modelo\n",
    "acuracia = accuracy_score(y_test, previsoes)\n",
    "relatorio_classificacao = classification_report(y_test, previsoes)\n",
    "roc_auc = roc_auc_score(y_test, probabilidades_default)\n",
    "\n",
    "# Limpando última coluna\n",
    "n_dados = df.drop(df.columns[-1], axis=1)\n",
    "\n",
    "# Selecionando cliente que deseja consulta chance de default de 0 a 117272\n",
    "cliente = 5\n",
    "n_dados = n_dados.iloc[cliente]\n",
    "\n",
    "# Chamando função de predição\n",
    "resultado_predicao = prever_default(n_dados, modelo, scaler)\n",
    "# Imprimindo resultado\n",
    "print(resultado_predicao)"
   ]
  }
 ],
 "metadata": {
  "kernelspec": {
   "display_name": "Python 3 (ipykernel)",
   "language": "python",
   "name": "python3"
  },
  "language_info": {
   "codemirror_mode": {
    "name": "ipython",
    "version": 3
   },
   "file_extension": ".py",
   "mimetype": "text/x-python",
   "name": "python",
   "nbconvert_exporter": "python",
   "pygments_lexer": "ipython3",
   "version": "3.10.12"
  }
 },
 "nbformat": 4,
 "nbformat_minor": 5
}
